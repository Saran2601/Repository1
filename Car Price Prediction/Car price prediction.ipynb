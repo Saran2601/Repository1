{
 "cells": [
  {
   "cell_type": "markdown",
   "id": "7d4e4773",
   "metadata": {},
   "source": [
    "# Importing the dependices"
   ]
  },
  {
   "cell_type": "code",
   "execution_count": null,
   "id": "eb6951f8",
   "metadata": {},
   "outputs": [],
   "source": [
    "import pandas as pd\n",
    "import matplotlib.pyplot as plt\n",
    "import seaborn as sns\n",
    "from sklearn.model_selection import train_test_split\n",
    "from sklearn.linear_model import LinearRegression\n",
    "from sklearn.linear_model import Lasso\n",
    "from sklearn import metrics"
   ]
  },
  {
   "cell_type": "code",
   "execution_count": null,
   "id": "d955c92c",
   "metadata": {},
   "outputs": [],
   "source": [
    "car_dataset=pd.read_csv(\"Book1.csv\")"
   ]
  },
  {
   "cell_type": "code",
   "execution_count": null,
   "id": "a3d40d3c",
   "metadata": {},
   "outputs": [],
   "source": [
    "print(car_dataset)"
   ]
  },
  {
   "cell_type": "code",
   "execution_count": null,
   "id": "e38eb5d3",
   "metadata": {},
   "outputs": [],
   "source": [
    " car_dataset.head()"
   ]
  },
  {
   "cell_type": "code",
   "execution_count": null,
   "id": "31ddfbb3",
   "metadata": {},
   "outputs": [],
   "source": [
    "car_dataset.shape\n"
   ]
  },
  {
   "cell_type": "code",
   "execution_count": null,
   "id": "1b7f3b8f",
   "metadata": {},
   "outputs": [],
   "source": [
    "car_dataset.info()\n"
   ]
  },
  {
   "cell_type": "markdown",
   "id": "8807b97a",
   "metadata": {},
   "source": [
    "# Number of missing values"
   ]
  },
  {
   "cell_type": "code",
   "execution_count": null,
   "id": "c5b01a57",
   "metadata": {},
   "outputs": [],
   "source": [
    "car_dataset.isnull().sum()"
   ]
  },
  {
   "cell_type": "code",
   "execution_count": null,
   "id": "0fa0494e",
   "metadata": {},
   "outputs": [],
   "source": [
    "print(car_dataset.Fuel_Type.value_counts())"
   ]
  },
  {
   "cell_type": "code",
   "execution_count": null,
   "id": "bd13d768",
   "metadata": {},
   "outputs": [],
   "source": [
    "print(car_dataset.Seller_Type.value_counts())"
   ]
  },
  {
   "cell_type": "code",
   "execution_count": null,
   "id": "44cb2477",
   "metadata": {},
   "outputs": [],
   "source": [
    "print(car_dataset.Transmission.value_counts())"
   ]
  },
  {
   "cell_type": "code",
   "execution_count": null,
   "id": "e46935f5",
   "metadata": {},
   "outputs": [],
   "source": [
    "car_dataset.replace({'Fuel_Type':{'Petrol':0,'Diesel':1}},inplace=True)\n",
    "car_dataset.replace({'Seller_Type':{'Dealer':0,'Individual':1}},inplace=True)\n",
    "car_dataset.replace({'Transmission':{'Manual':0,'Automatic':1}},inplace=True)"
   ]
  },
  {
   "cell_type": "code",
   "execution_count": null,
   "id": "a3ba18f7",
   "metadata": {},
   "outputs": [],
   "source": [
    "car_dataset.head()"
   ]
  },
  {
   "cell_type": "code",
   "execution_count": null,
   "id": "b86fa516",
   "metadata": {},
   "outputs": [],
   "source": [
    "#Splitting the data and target\n"
   ]
  },
  {
   "cell_type": "code",
   "execution_count": null,
   "id": "ec15dbf3",
   "metadata": {},
   "outputs": [],
   "source": [
    "x=car_dataset.drop(['Car_Name','Selling_Price'],axis=1)\n",
    "y=car_dataset['Selling_Price']"
   ]
  },
  {
   "cell_type": "code",
   "execution_count": null,
   "id": "672be462",
   "metadata": {},
   "outputs": [],
   "source": [
    "print(x)\n",
    "print(y)"
   ]
  },
  {
   "cell_type": "code",
   "execution_count": null,
   "id": "c8eef380",
   "metadata": {},
   "outputs": [],
   "source": [
    "#Splitting  traning data and test data"
   ]
  },
  {
   "cell_type": "code",
   "execution_count": null,
   "id": "4ebb04d7",
   "metadata": {},
   "outputs": [],
   "source": [
    "X_train,X_test,Y_train,Y_test=train_test_split(x,y, test_size=0.1,random_state=2)"
   ]
  },
  {
   "cell_type": "markdown",
   "id": "d1b077a9",
   "metadata": {},
   "source": [
    "# Model Training"
   ]
  },
  {
   "cell_type": "markdown",
   "id": "6f5b41da",
   "metadata": {},
   "source": [
    "# 1.Linear Regression"
   ]
  },
  {
   "cell_type": "code",
   "execution_count": null,
   "id": "4835ae87",
   "metadata": {},
   "outputs": [],
   "source": [
    "lin_reg_model=LinearRegression()"
   ]
  },
  {
   "cell_type": "code",
   "execution_count": null,
   "id": "c0becbe6",
   "metadata": {
    "scrolled": true
   },
   "outputs": [],
   "source": [
    "lin_reg_model.fit(X_train,Y_train)"
   ]
  },
  {
   "cell_type": "markdown",
   "id": "a3126bd9",
   "metadata": {},
   "source": [
    "# Model Evalution"
   ]
  },
  {
   "cell_type": "code",
   "execution_count": null,
   "id": "196df2fe",
   "metadata": {},
   "outputs": [],
   "source": [
    "training_data_prediction=lin_reg_model.predict(X_train)"
   ]
  },
  {
   "cell_type": "code",
   "execution_count": null,
   "id": "11be1c85",
   "metadata": {},
   "outputs": [],
   "source": [
    "# R Squared Error\n"
   ]
  },
  {
   "cell_type": "code",
   "execution_count": null,
   "id": "ae3a7a39",
   "metadata": {},
   "outputs": [],
   "source": [
    "error_score=metrics.r2_score(Y_train,training_data_prediction)"
   ]
  },
  {
   "cell_type": "code",
   "execution_count": null,
   "id": "9f6e3fca",
   "metadata": {},
   "outputs": [],
   "source": [
    "print(\"R squared error:\",error_score)"
   ]
  },
  {
   "cell_type": "code",
   "execution_count": null,
   "id": "9a8d82a4",
   "metadata": {},
   "outputs": [],
   "source": [
    "# Visualize the actual prices and predicted price"
   ]
  },
  {
   "cell_type": "code",
   "execution_count": null,
   "id": "264ef9a7",
   "metadata": {},
   "outputs": [],
   "source": [
    "plt.scatter(Y_train,training_data_prediction)\n",
    "plt.xlabel('Actual Price')\n",
    "plt.ylabel('Predicted Price')\n",
    "plt.title('Actual Prices vs Predicted Prices')\n",
    "plt.show()"
   ]
  },
  {
   "cell_type": "code",
   "execution_count": null,
   "id": "f48b3784",
   "metadata": {},
   "outputs": [],
   "source": [
    "# lasso regression"
   ]
  },
  {
   "cell_type": "code",
   "execution_count": null,
   "id": "c07b1895",
   "metadata": {},
   "outputs": [],
   "source": [
    "lass_reg_model=Lasso()"
   ]
  },
  {
   "cell_type": "code",
   "execution_count": null,
   "id": "8cfcea05",
   "metadata": {},
   "outputs": [],
   "source": [
    "lass_reg_model.fit(X_train,Y_train)"
   ]
  },
  {
   "cell_type": "code",
   "execution_count": null,
   "id": "4640b569",
   "metadata": {},
   "outputs": [],
   "source": [
    "training_data_prediction=lass_reg_model.predict(X_train)"
   ]
  },
  {
   "cell_type": "code",
   "execution_count": null,
   "id": "ad7cd4d7",
   "metadata": {},
   "outputs": [],
   "source": [
    "error_score=metrics.r2_score(Y_train,training_data_prediction)"
   ]
  },
  {
   "cell_type": "code",
   "execution_count": null,
   "id": "d8160623",
   "metadata": {},
   "outputs": [],
   "source": [
    "print(error_score)"
   ]
  },
  {
   "cell_type": "code",
   "execution_count": null,
   "id": "28e71859",
   "metadata": {},
   "outputs": [],
   "source": [
    "plt.scatter(Y_train,training_data_prediction)\n",
    "plt.xlabel('Actual Price')\n",
    "plt.ylabel('Predicted Price')\n",
    "plt.title('Actual Prices vs Predicted Prices')\n",
    "plt.show()"
   ]
  },
  {
   "cell_type": "code",
   "execution_count": null,
   "id": "fc07dc2c",
   "metadata": {},
   "outputs": [],
   "source": []
  }
 ],
 "metadata": {
  "kernelspec": {
   "display_name": "Python 3 (ipykernel)",
   "language": "python",
   "name": "python3"
  },
  "language_info": {
   "codemirror_mode": {
    "name": "ipython",
    "version": 3
   },
   "file_extension": ".py",
   "mimetype": "text/x-python",
   "name": "python",
   "nbconvert_exporter": "python",
   "pygments_lexer": "ipython3",
   "version": "3.11.0"
  }
 },
 "nbformat": 4,
 "nbformat_minor": 5
}
